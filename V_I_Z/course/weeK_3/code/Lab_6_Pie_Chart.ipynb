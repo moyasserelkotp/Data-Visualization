{
 "cells": [
  {
   "cell_type": "markdown",
   "id": "b4d7816d",
   "metadata": {
    "id": "BMz0MylVCagD"
   },
   "source": [
    "# Part 5: Pie Charts\n",
    "This case study will walk you through how to visualize economic data using various Matplotlib plots. We will use the dataset provided, which contains the following columns:\n",
    "\n",
    "- Year\n",
    "- GDP\n",
    "- GDP_PerCapita\n",
    "- GDP_Growth\n",
    "- Inflation\n",
    "- Unemployment\n",
    "- Inflation_Change\n",
    "\n",
    "In this fifth part, we'll use Matplotlib to create pie charts to visualize inflation change. To begin, import the libraries and data in the cell below. Then, complete the following exercises."
   ]
  },
  {
   "cell_type": "code",
   "execution_count": 1,
   "id": "64f1d84a",
   "metadata": {},
   "outputs": [],
   "source": [
    "import matplotlib.pyplot as plt\n",
    "import pandas as pd\n",
    "import numpy as np\n",
    "\n",
    "df = pd.read_csv('EcoOfUs.csv')"
   ]
  },
  {
   "cell_type": "code",
   "execution_count": 3,
   "id": "d5e0d232",
   "metadata": {},
   "outputs": [
    {
     "name": "stdout",
     "output_type": "stream",
     "text": [
      "<class 'pandas.core.frame.DataFrame'>\n",
      "RangeIndex: 21 entries, 0 to 20\n",
      "Data columns (total 8 columns):\n",
      " #   Column            Non-Null Count  Dtype  \n",
      "---  ------            --------------  -----  \n",
      " 0   Unnamed: 0        21 non-null     int64  \n",
      " 1   Year              21 non-null     int64  \n",
      " 2   GDP               21 non-null     float64\n",
      " 3   GDP_PerCapita     21 non-null     float64\n",
      " 4   GDP_Growth        21 non-null     float64\n",
      " 5   Inflation         21 non-null     float64\n",
      " 6   Unemployment      21 non-null     float64\n",
      " 7   Inflation_Change  21 non-null     float64\n",
      "dtypes: float64(6), int64(2)\n",
      "memory usage: 1.4 KB\n"
     ]
    }
   ],
   "source": [
    "df.info()"
   ]
  },
  {
   "cell_type": "code",
   "execution_count": 5,
   "id": "ed112903",
   "metadata": {},
   "outputs": [
    {
     "data": {
      "application/vnd.microsoft.datawrangler.viewer.v0+json": {
       "columns": [
        {
         "name": "index",
         "rawType": "int64",
         "type": "integer"
        },
        {
         "name": "Unnamed: 0",
         "rawType": "int64",
         "type": "integer"
        },
        {
         "name": "Year",
         "rawType": "int64",
         "type": "integer"
        },
        {
         "name": "GDP",
         "rawType": "float64",
         "type": "float"
        },
        {
         "name": "GDP_PerCapita",
         "rawType": "float64",
         "type": "float"
        },
        {
         "name": "GDP_Growth",
         "rawType": "float64",
         "type": "float"
        },
        {
         "name": "Inflation",
         "rawType": "float64",
         "type": "float"
        },
        {
         "name": "Unemployment",
         "rawType": "float64",
         "type": "float"
        },
        {
         "name": "Inflation_Change",
         "rawType": "float64",
         "type": "float"
        }
       ],
       "ref": "58b3838a-0523-47fe-8021-999bc9b6996a",
       "rows": [
        [
         "11",
         "11",
         "2011",
         "2939.82",
         "5650.52",
         "5.47",
         "7.36",
         "7.44",
         "1.21"
        ],
        [
         "16",
         "16",
         "2016",
         "1608.48",
         "5976.72",
         "1.23",
         "2.04",
         "3.28",
         "1.58"
        ],
        [
         "10",
         "10",
         "2010",
         "1041.17",
         "6705.24",
         "5.7",
         "8.34",
         "9.94",
         "1.49"
        ],
        [
         "7",
         "7",
         "2007",
         "2732.35",
         "10924.15",
         "1.92",
         "7.95",
         "9.42",
         "1.72"
        ],
        [
         "8",
         "8",
         "2008",
         "2202.23",
         "5464.5",
         "5.85",
         "2.79",
         "9.85",
         "1.23"
        ]
       ],
       "shape": {
        "columns": 8,
        "rows": 5
       }
      },
      "text/html": [
       "<div>\n",
       "<style scoped>\n",
       "    .dataframe tbody tr th:only-of-type {\n",
       "        vertical-align: middle;\n",
       "    }\n",
       "\n",
       "    .dataframe tbody tr th {\n",
       "        vertical-align: top;\n",
       "    }\n",
       "\n",
       "    .dataframe thead th {\n",
       "        text-align: right;\n",
       "    }\n",
       "</style>\n",
       "<table border=\"1\" class=\"dataframe\">\n",
       "  <thead>\n",
       "    <tr style=\"text-align: right;\">\n",
       "      <th></th>\n",
       "      <th>Unnamed: 0</th>\n",
       "      <th>Year</th>\n",
       "      <th>GDP</th>\n",
       "      <th>GDP_PerCapita</th>\n",
       "      <th>GDP_Growth</th>\n",
       "      <th>Inflation</th>\n",
       "      <th>Unemployment</th>\n",
       "      <th>Inflation_Change</th>\n",
       "    </tr>\n",
       "  </thead>\n",
       "  <tbody>\n",
       "    <tr>\n",
       "      <th>11</th>\n",
       "      <td>11</td>\n",
       "      <td>2011</td>\n",
       "      <td>2939.82</td>\n",
       "      <td>5650.52</td>\n",
       "      <td>5.47</td>\n",
       "      <td>7.36</td>\n",
       "      <td>7.44</td>\n",
       "      <td>1.21</td>\n",
       "    </tr>\n",
       "    <tr>\n",
       "      <th>16</th>\n",
       "      <td>16</td>\n",
       "      <td>2016</td>\n",
       "      <td>1608.48</td>\n",
       "      <td>5976.72</td>\n",
       "      <td>1.23</td>\n",
       "      <td>2.04</td>\n",
       "      <td>3.28</td>\n",
       "      <td>1.58</td>\n",
       "    </tr>\n",
       "    <tr>\n",
       "      <th>10</th>\n",
       "      <td>10</td>\n",
       "      <td>2010</td>\n",
       "      <td>1041.17</td>\n",
       "      <td>6705.24</td>\n",
       "      <td>5.70</td>\n",
       "      <td>8.34</td>\n",
       "      <td>9.94</td>\n",
       "      <td>1.49</td>\n",
       "    </tr>\n",
       "    <tr>\n",
       "      <th>7</th>\n",
       "      <td>7</td>\n",
       "      <td>2007</td>\n",
       "      <td>2732.35</td>\n",
       "      <td>10924.15</td>\n",
       "      <td>1.92</td>\n",
       "      <td>7.95</td>\n",
       "      <td>9.42</td>\n",
       "      <td>1.72</td>\n",
       "    </tr>\n",
       "    <tr>\n",
       "      <th>8</th>\n",
       "      <td>8</td>\n",
       "      <td>2008</td>\n",
       "      <td>2202.23</td>\n",
       "      <td>5464.50</td>\n",
       "      <td>5.85</td>\n",
       "      <td>2.79</td>\n",
       "      <td>9.85</td>\n",
       "      <td>1.23</td>\n",
       "    </tr>\n",
       "  </tbody>\n",
       "</table>\n",
       "</div>"
      ],
      "text/plain": [
       "    Unnamed: 0  Year      GDP  GDP_PerCapita  GDP_Growth  Inflation  \\\n",
       "11          11  2011  2939.82        5650.52        5.47       7.36   \n",
       "16          16  2016  1608.48        5976.72        1.23       2.04   \n",
       "10          10  2010  1041.17        6705.24        5.70       8.34   \n",
       "7            7  2007  2732.35       10924.15        1.92       7.95   \n",
       "8            8  2008  2202.23        5464.50        5.85       2.79   \n",
       "\n",
       "    Unemployment  Inflation_Change  \n",
       "11          7.44              1.21  \n",
       "16          3.28              1.58  \n",
       "10          9.94              1.49  \n",
       "7           9.42              1.72  \n",
       "8           9.85              1.23  "
      ]
     },
     "execution_count": 5,
     "metadata": {},
     "output_type": "execute_result"
    }
   ],
   "source": [
    "df.sample(5)"
   ]
  },
  {
   "cell_type": "markdown",
   "id": "4f1218c8",
   "metadata": {
    "id": "KPKMn0-qCe2r"
   },
   "source": [
    "### Exercise 1\n",
    "Create a pie chart to visualize inflation change each year as either decreased, increased, or no change."
   ]
  },
  {
   "cell_type": "code",
   "execution_count": null,
   "id": "9d7d4ab1",
   "metadata": {
    "solution2": "hidden",
    "solution2_first": true
   },
   "outputs": [],
   "source": [
    "# Your Code Here\n",
    "\n",
    "inflation_freq = df[\"Inflation\"].value_counts()\n",
    "inflation_freq\n",
    "\n",
    "lable = [\"Decrease\", \"Increase\", \"NoChange\"]"
   ]
  },
  {
   "cell_type": "code",
   "execution_count": 13,
   "id": "364d76d4",
   "metadata": {},
   "outputs": [
    {
     "data": {
      "text/plain": [
       "([<matplotlib.patches.Wedge at 0x1b066bb6890>,\n",
       "  <matplotlib.patches.Wedge at 0x1b06407e610>,\n",
       "  <matplotlib.patches.Wedge at 0x1b066b09350>,\n",
       "  <matplotlib.patches.Wedge at 0x1b066969590>,\n",
       "  <matplotlib.patches.Wedge at 0x1b06693dc50>,\n",
       "  <matplotlib.patches.Wedge at 0x1b06693ee50>,\n",
       "  <matplotlib.patches.Wedge at 0x1b0669c2590>,\n",
       "  <matplotlib.patches.Wedge at 0x1b066a84250>,\n",
       "  <matplotlib.patches.Wedge at 0x1b066a85e50>,\n",
       "  <matplotlib.patches.Wedge at 0x1b06693fe50>,\n",
       "  <matplotlib.patches.Wedge at 0x1b066ab2190>,\n",
       "  <matplotlib.patches.Wedge at 0x1b066ab3e90>,\n",
       "  <matplotlib.patches.Wedge at 0x1b066ab1310>,\n",
       "  <matplotlib.patches.Wedge at 0x1b066abe390>,\n",
       "  <matplotlib.patches.Wedge at 0x1b066ad6750>,\n",
       "  <matplotlib.patches.Wedge at 0x1b066bcd650>,\n",
       "  <matplotlib.patches.Wedge at 0x1b066bce610>,\n",
       "  <matplotlib.patches.Wedge at 0x1b066bcf690>,\n",
       "  <matplotlib.patches.Wedge at 0x1b066bf4710>,\n",
       "  <matplotlib.patches.Wedge at 0x1b066ab1490>],\n",
       " [Text(1.0511300845578104, 0.32423069770996493, ''),\n",
       "  Text(0.8063570485886119, 0.7481900227826239, ''),\n",
       "  Text(0.5499999814184447, 0.9526279548909484, ''),\n",
       "  Text(0.24477300045714068, 1.0724207095385694, ''),\n",
       "  Text(-0.08220313656756618, 1.0969241743796398, ''),\n",
       "  Text(-0.40187516389565536, 1.0239611089508431, ''),\n",
       "  Text(-0.685838817991205, 0.8600146020483762, ''),\n",
       "  Text(-0.9088626811009334, 0.6196520208165414, ''),\n",
       "  Text(-1.0511301035307266, 0.3242306362012763, ''),\n",
       "  Text(-1.0999999999999983, -6.436839519026511e-08, ''),\n",
       "  Text(-1.0511300655848905, -0.3242307592186525, ''),\n",
       "  Text(-0.9088626085809158, -0.6196521271838684, ''),\n",
       "  Text(-0.685838717340728, -0.8600146823144506, ''),\n",
       "  Text(-0.4018750440579556, -1.0239611559836712, ''),\n",
       "  Text(-0.08220300819074948, -1.0969241840001487, ''),\n",
       "  Text(0.24477312596623046, -1.0724206808919343, ''),\n",
       "  Text(0.5500000929077736, -0.9526278905225484, ''),\n",
       "  Text(0.8063571361518628, -0.7481899284118748, ''),\n",
       "  Text(0.9910658065596839, -0.47727200532631653, ''),\n",
       "  Text(1.0877139275780188, -0.16394636852581002, '')])"
      ]
     },
     "execution_count": 13,
     "metadata": {},
     "output_type": "execute_result"
    },
    {
     "data": {
      "image/png": "[encoded data removed]",
      "text/plain": [
       "<Figure size 640x480 with 1 Axes>"
      ]
     },
     "metadata": {},
     "output_type": "display_data"
    }
   ],
   "source": [
    "plt.pie(inflation_freq,)"
   ]
  },
  {
   "cell_type": "code",
   "execution_count": null,
   "id": "cfd1077d",
   "metadata": {
    "colab": {
     "base_uri": "https://localhost:8080/",
     "height": 428
    },
    "executionInfo": {
     "elapsed": 427,
     "status": "ok",
     "timestamp": 1722836417556,
     "user": {
      "displayName": "Di Wu",
      "userId": "12543708253923817022"
     },
     "user_tz": -480
    },
    "id": "J5Te0xQfCgLW",
    "outputId": "3c5e3efd-e3da-4ba2-8a13-008452c57662",
    "solution2": "hidden"
   },
   "outputs": [
    {
     "data": {
      "image/png": "[encoded data removed]",
      "text/plain": [
       "<Figure size 640x480 with 1 Axes>"
      ]
     },
     "metadata": {},
     "output_type": "display_data"
    }
   ],
   "source": [
    "# Inflation Change over the years\n",
    "inflation_change = df['Inflation_Change'].value_counts()\n",
    "\n",
    "plt.pie(inflation_change, labels=['Decrease', 'Increase', 'NoChange'])\n",
    "plt.title('Inflation Change over the Years')\n",
    "plt.show()"
   ]
  }
 ],
 "metadata": {
  "kernelspec": {
   "display_name": "base",
   "language": "python",
   "name": "python3"
  },
  "language_info": {
   "codemirror_mode": {
    "name": "ipython",
    "version": 3
   },
   "file_extension": ".py",
   "mimetype": "text/x-python",
   "name": "python",
   "nbconvert_exporter": "python",
   "pygments_lexer": "ipython3",
   "version": "3.11.7"
  }
 },
 "nbformat": 4,
 "nbformat_minor": 5
}
