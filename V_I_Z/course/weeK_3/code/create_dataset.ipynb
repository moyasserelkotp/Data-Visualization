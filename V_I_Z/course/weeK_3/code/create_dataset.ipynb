{
 "cells": [
  {
   "cell_type": "code",
   "execution_count": 3,
   "id": "e2c8a237",
   "metadata": {},
   "outputs": [],
   "source": [
    "import pandas as pd\n",
    "import numpy as np"
   ]
  },
  {
   "cell_type": "code",
   "execution_count": 4,
   "metadata": {},
   "outputs": [],
   "source": [
    "np.random.seed(42)\n",
    "years = np.arange(2000, 2021)"
   ]
  },
  {
   "cell_type": "code",
   "execution_count": 5,
   "metadata": {},
   "outputs": [],
   "source": [
    "data = {\n",
    "    \"Year\": years,\n",
    "    \"GDP\": np.random.uniform(1000, 3000, size=len(years)).round(2),\n",
    "    \"GDP_PerCapita\": np.random.uniform(5000, 15000, size=len(years)).round(2),\n",
    "    \"GDP_Growth\": np.random.uniform(1.0, 6.0, size=len(years)).round(2),\n",
    "    \"Inflation\": np.random.uniform(1.0, 10.0, size=len(years)).round(2),\n",
    "    \"Unemployment\": np.random.uniform(3.0, 12.0, size=len(years)).round(2),\n",
    "    \"Inflation_Change\": np.random.uniform(-2.0, 2.0, size=len(years)).round(2),\n",
    "}"
   ]
  },
  {
   "cell_type": "code",
   "execution_count": 6,
   "metadata": {},
   "outputs": [],
   "source": [
    "df = pd.DataFrame(data)"
   ]
  },
  {
   "cell_type": "code",
   "execution_count": 7,
   "id": "d1397dd1",
   "metadata": {},
   "outputs": [
    {
     "data": {
      "application/vnd.microsoft.datawrangler.viewer.v0+json": {
       "columns": [
        {
         "name": "index",
         "rawType": "int64",
         "type": "integer"
        },
        {
         "name": "Year",
         "rawType": "int32",
         "type": "integer"
        },
        {
         "name": "GDP",
         "rawType": "float64",
         "type": "float"
        },
        {
         "name": "GDP_PerCapita",
         "rawType": "float64",
         "type": "float"
        },
        {
         "name": "GDP_Growth",
         "rawType": "float64",
         "type": "float"
        },
        {
         "name": "Inflation",
         "rawType": "float64",
         "type": "float"
        },
        {
         "name": "Unemployment",
         "rawType": "float64",
         "type": "float"
        },
        {
         "name": "Inflation_Change",
         "rawType": "float64",
         "type": "float"
        }
       ],
       "ref": "d957b2bf-6cc7-4a59-bf94-56ba9380c839",
       "rows": [
        [
         "0",
         "2000",
         "1749.08",
         "6394.94",
         "1.17",
         "4.21",
         "5.8",
         "-1.0"
        ],
        [
         "1",
         "2001",
         "2901.43",
         "7921.45",
         "5.55",
         "3.53",
         "5.93",
         "-0.36"
        ],
        [
         "2",
         "2002",
         "2463.99",
         "8663.62",
         "2.29",
         "5.88",
         "9.57",
         "1.02"
        ],
        [
         "3",
         "2003",
         "2197.32",
         "9560.7",
         "4.31",
         "2.27",
         "8.74",
         "-1.08"
        ],
        [
         "4",
         "2004",
         "1312.04",
         "12851.76",
         "2.56",
         "8.22",
         "10.98",
         "-1.69"
        ]
       ],
       "shape": {
        "columns": 7,
        "rows": 5
       }
      },
      "text/html": [
       "<div>\n",
       "<style scoped>\n",
       "    .dataframe tbody tr th:only-of-type {\n",
       "        vertical-align: middle;\n",
       "    }\n",
       "\n",
       "    .dataframe tbody tr th {\n",
       "        vertical-align: top;\n",
       "    }\n",
       "\n",
       "    .dataframe thead th {\n",
       "        text-align: right;\n",
       "    }\n",
       "</style>\n",
       "<table border=\"1\" class=\"dataframe\">\n",
       "  <thead>\n",
       "    <tr style=\"text-align: right;\">\n",
       "      <th></th>\n",
       "      <th>Year</th>\n",
       "      <th>GDP</th>\n",
       "      <th>GDP_PerCapita</th>\n",
       "      <th>GDP_Growth</th>\n",
       "      <th>Inflation</th>\n",
       "      <th>Unemployment</th>\n",
       "      <th>Inflation_Change</th>\n",
       "    </tr>\n",
       "  </thead>\n",
       "  <tbody>\n",
       "    <tr>\n",
       "      <th>0</th>\n",
       "      <td>2000</td>\n",
       "      <td>1749.08</td>\n",
       "      <td>6394.94</td>\n",
       "      <td>1.17</td>\n",
       "      <td>4.21</td>\n",
       "      <td>5.80</td>\n",
       "      <td>-1.00</td>\n",
       "    </tr>\n",
       "    <tr>\n",
       "      <th>1</th>\n",
       "      <td>2001</td>\n",
       "      <td>2901.43</td>\n",
       "      <td>7921.45</td>\n",
       "      <td>5.55</td>\n",
       "      <td>3.53</td>\n",
       "      <td>5.93</td>\n",
       "      <td>-0.36</td>\n",
       "    </tr>\n",
       "    <tr>\n",
       "      <th>2</th>\n",
       "      <td>2002</td>\n",
       "      <td>2463.99</td>\n",
       "      <td>8663.62</td>\n",
       "      <td>2.29</td>\n",
       "      <td>5.88</td>\n",
       "      <td>9.57</td>\n",
       "      <td>1.02</td>\n",
       "    </tr>\n",
       "    <tr>\n",
       "      <th>3</th>\n",
       "      <td>2003</td>\n",
       "      <td>2197.32</td>\n",
       "      <td>9560.70</td>\n",
       "      <td>4.31</td>\n",
       "      <td>2.27</td>\n",
       "      <td>8.74</td>\n",
       "      <td>-1.08</td>\n",
       "    </tr>\n",
       "    <tr>\n",
       "      <th>4</th>\n",
       "      <td>2004</td>\n",
       "      <td>1312.04</td>\n",
       "      <td>12851.76</td>\n",
       "      <td>2.56</td>\n",
       "      <td>8.22</td>\n",
       "      <td>10.98</td>\n",
       "      <td>-1.69</td>\n",
       "    </tr>\n",
       "  </tbody>\n",
       "</table>\n",
       "</div>"
      ],
      "text/plain": [
       "   Year      GDP  GDP_PerCapita  GDP_Growth  Inflation  Unemployment  \\\n",
       "0  2000  1749.08        6394.94        1.17       4.21          5.80   \n",
       "1  2001  2901.43        7921.45        5.55       3.53          5.93   \n",
       "2  2002  2463.99        8663.62        2.29       5.88          9.57   \n",
       "3  2003  2197.32        9560.70        4.31       2.27          8.74   \n",
       "4  2004  1312.04       12851.76        2.56       8.22         10.98   \n",
       "\n",
       "   Inflation_Change  \n",
       "0             -1.00  \n",
       "1             -0.36  \n",
       "2              1.02  \n",
       "3             -1.08  \n",
       "4             -1.69  "
      ]
     },
     "execution_count": 7,
     "metadata": {},
     "output_type": "execute_result"
    }
   ],
   "source": [
    "df.head()"
   ]
  },
  {
   "cell_type": "code",
   "execution_count": 8,
   "id": "d29821aa",
   "metadata": {},
   "outputs": [
    {
     "data": {
      "text/plain": [
       "(21, 7)"
      ]
     },
     "execution_count": 8,
     "metadata": {},
     "output_type": "execute_result"
    }
   ],
   "source": [
    "df.shape"
   ]
  },
  {
   "cell_type": "code",
   "execution_count": 9,
   "id": "258d0e8a",
   "metadata": {},
   "outputs": [],
   "source": [
    "df.to_csv(\"EcoOfUs.csv\")"
   ]
  },
  {
   "cell_type": "code",
   "execution_count": null,
   "id": "e8c71ea5",
   "metadata": {},
   "outputs": [],
   "source": []
  }
 ],
 "metadata": {
  "kernelspec": {
   "display_name": "base",
   "language": "python",
   "name": "python3"
  },
  "language_info": {
   "codemirror_mode": {
    "name": "ipython",
    "version": 3
   },
   "file_extension": ".py",
   "mimetype": "text/x-python",
   "name": "python",
   "nbconvert_exporter": "python",
   "pygments_lexer": "ipython3",
   "version": "3.11.7"
  }
 },
 "nbformat": 4,
 "nbformat_minor": 5
}
